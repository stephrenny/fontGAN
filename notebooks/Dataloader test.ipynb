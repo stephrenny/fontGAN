{
 "cells": [
  {
   "cell_type": "code",
   "execution_count": 127,
   "id": "immune-local",
   "metadata": {},
   "outputs": [],
   "source": [
    "from matplotlib import pyplot as plt"
   ]
  },
  {
   "cell_type": "code",
   "execution_count": 128,
   "id": "controlled-andrews",
   "metadata": {},
   "outputs": [],
   "source": [
    "# sys.path.insert(1, '/Users/stephenren/code/fontGAN/src')\n",
    "\n",
    "from __future__ import print_function, division\n",
    "import sys\n",
    "import os\n",
    "import torch\n",
    "import numpy as np\n",
    "import random\n",
    "import csv\n",
    "import cv2\n",
    "\n",
    "from torch.utils.data import Dataset, DataLoader\n",
    "from torchvision import transforms, utils\n",
    "from torch.utils.data.sampler import Sampler\n",
    "\n",
    "\"\"\"\n",
    "Dataset for loading in alphanumeric (abc..789) character images of given fonts\n",
    "\"\"\"\n",
    "class FontDataset(Dataset):\n",
    "    \"\"\"\n",
    "    @ params\n",
    "    fonts_directory (str): High level directory which contains subdirectories of fonts\n",
    "        The subdirectories are named by their font name (e.g. Helvetica-Regular)\n",
    "        Each directory contains images of lower and uppercase characters and numerals 0-9\n",
    "        Images of \n",
    "    num_condition (int, tuple<int>): The number of characters to stack together as a condition\n",
    "        If tuple, gives a low-high range for number of characters given\n",
    "    \"\"\"\n",
    "    def __init__(self, fonts_directory, num_condition=7, dims=(256,256), max_img_dim=64, n_chars=128, regular_only=False, src_corpus=None, tgt_corpus=None):\n",
    "        self.fonts_directory = fonts_directory\n",
    "        self.num_condition = num_condition\n",
    "        self.dims = dims\n",
    "        self.max_img_dim=128\n",
    "        self.n_chars = n_chars\n",
    "        self.regular_only = regular_only\n",
    "        self.src_corpus = src_corpus if src_corpus is not None else [['H', 'e-1', 'l-1', 'l-1', 'o-1']]\n",
    "        self.tgt_corpus = tgt_corpus if tgt_corpus is not None else [['T', 'h-1', 'e-1', 'r-1', 'e-1']]\n",
    "\n",
    "        self.fonts = []\n",
    "        for font_name in os.listdir(self.fonts_directory):\n",
    "            if regular_only and font_name.split('-')[-1] != 'Regular':\n",
    "                continue\n",
    "            self.fonts.append(font_name)\n",
    "\n",
    "    def _load_char_images(self, idx):\n",
    "        fontName = self.fonts[idx]\n",
    "        char_dir = os.path.join(self.fonts_directory, fontName)\n",
    "\n",
    "        out = {}\n",
    "        for filename in os.listdir(char_dir):\n",
    "            if filename[0] == '.':\n",
    "                continue\n",
    "            max_h, max_w = self.max_img_dim, self.max_img_dim\n",
    "            image = cv2.imread(os.path.join(char_dir, filename), cv2.IMREAD_GRAYSCALE).astype(np.float) / 255\n",
    "            h, w = image.shape\n",
    "            image = image[:min(self.max_img_dim, h), :min(self.max_img_dim, w)]\n",
    "            h, w = image.shape\n",
    "            pad_h, pad_w = self.max_img_dim, self.max_img_dim\n",
    "            \n",
    "            padded_image = np.ones((self.max_img_dim, self.max_img_dim)).astype(np.float)\n",
    "            h_start, w_start = (pad_h - h) // 2, (pad_w - w) // 2\n",
    "            padded_image[h_start:h_start + h, w_start: w_start + w] = image\n",
    "\n",
    "            # Key = 'a', 'b', 'Z', '0', etc\n",
    "            out[str(filename.split('.')[0])] = padded_image\n",
    "        \n",
    "        return out\n",
    "    \n",
    "    def _shape_image(self, image, cfg=None):\n",
    "        out_h, out_w = self.dims\n",
    "        if cfg is None:\n",
    "            h, w = image.shape\n",
    "            span = np.random.uniform(0.5, 1)\n",
    "            scale = out_w * span / w\n",
    "            new_h, new_w = int(h * scale), int(w * scale)\n",
    "            start_h, start_w = np.random.randint(0, out_h - new_h), np.random.randint(out_w - new_w)\n",
    "            cfg = start_h, start_w, scale\n",
    "        \n",
    "        h, w = image.shape\n",
    "        start_h, start_w, scale = cfg\n",
    "        new_h, new_w = int(h * scale), int(w * scale)\n",
    "        out = np.ones((out_h, out_w)).astype(np.float)\n",
    "        img = cv2.resize(image, (new_w, new_h))\n",
    "        out[start_h: start_h + new_h, start_w: start_w + new_w] = img\n",
    "        return out, cfg\n",
    "        \n",
    "        if w <= self.dims[1]:\n",
    "            w_start = (self.dims[1] - w) // 2\n",
    "            out[:, w_start:w_start + w] = image\n",
    "        else:\n",
    "            new_h = int(h * self.dims[1] / w)\n",
    "            img = cv2.resize(image, (self.dims[1], new_h))\n",
    "            h_start = (self.dims[0] - new_h) // 2\n",
    "            out[h_start: h_start + new_h, :] = img\n",
    "        \n",
    "        return out\n",
    "\n",
    "    \"\"\"\n",
    "    Returns an font item of a certain font type (e.g. Helvetica-Reular)\n",
    "    In the form of a condition, target tuple:\n",
    "    condition: (w, h, 62) tensor of n random character images, where most of the 62 is noise\n",
    "    target: (w, h, 62) tensor of all the alphanumeric character images\n",
    "    \"\"\"\n",
    "    def __getitem__(self, idx):\n",
    "        char_images = self._load_char_images(idx)\n",
    "        rnd_char_images = self._load_char_images(np.random.randint(self.__len__()))\n",
    "        \n",
    "        word = ['H', 'e-1', 'l-1', 'l-1', 'o-1']\n",
    "        target_word = ['T', 'h-1', 'e-1', 'r-1', 'e-1']\n",
    "        orig_font, cfg = self._shape_image(np.concatenate([char_images[key] for key in word], axis=1))\n",
    "        condition, _ = self._shape_image(np.concatenate([rnd_char_images[key] for key in target_word], axis=1))\n",
    "        target, _ = self._shape_image(np.concatenate([char_images[key] for key in target_word], axis=1), cfg)\n",
    "        \n",
    "        return 1 - orig_font, 1 - condition, 1 - target\n",
    "        \n",
    "#         # Sort the images by keys, turn into array\n",
    "#         char_images = 1 - np.array([char_images[key] for key in sorted(list(char_images.keys()))]).astype(np.float) / 255\n",
    "\n",
    "#         target = char_images\n",
    "#         condition = np.zeros((self.n_chars, self.dims[0], self.dims[1])).astype(np.float)\n",
    "#         # random indices of \n",
    "#         condition_idxs = np.random.choice(self.n_chars, self.num_condition)\n",
    "#         condition[condition_idxs] = target[condition_idxs]\n",
    "        \n",
    "#         condition = condition.transpose(1, 2, 0)\n",
    "#         target = target.transpose(1, 2, 0)\n",
    "        \n",
    "#         condition = torch.from_numpy(condition)\n",
    "#         target = torch.from_numpy(target)\n",
    "        \n",
    "#         return condition, target, condition_idxs\n",
    "\n",
    "    def __len__(self):\n",
    "        return len(self.fonts)        \n"
   ]
  },
  {
   "cell_type": "code",
   "execution_count": 129,
   "id": "excessive-character",
   "metadata": {},
   "outputs": [],
   "source": [
    "dataset = FontDataset(fonts_directory='/Users/stephenren/code/fontData/font_characters_splits/train', num_condition=10)"
   ]
  },
  {
   "cell_type": "code",
   "execution_count": 132,
   "id": "surrounded-measurement",
   "metadata": {
    "scrolled": true
   },
   "outputs": [],
   "source": [
    "orig_font, condition, target = dataset[44]"
   ]
  },
  {
   "cell_type": "code",
   "execution_count": 133,
   "id": "visible-bunny",
   "metadata": {},
   "outputs": [
    {
     "data": {
      "text/plain": [
       "<matplotlib.image.AxesImage at 0x7fd19381ead0>"
      ]
     },
     "execution_count": 133,
     "metadata": {},
     "output_type": "execute_result"
    },
    {
     "data": {
      "image/png": "[encoded data removed]",
      "text/plain": [
       "<Figure size 1080x720 with 1 Axes>"
      ]
     },
     "metadata": {
      "needs_background": "light"
     },
     "output_type": "display_data"
    }
   ],
   "source": [
    "plt.gcf().set_size_inches(15,10)\n",
    "plt.imshow(orig_font, cmap='gray')"
   ]
  },
  {
   "cell_type": "code",
   "execution_count": null,
   "id": "cleared-beast",
   "metadata": {},
   "outputs": [],
   "source": []
  }
 ],
 "metadata": {
  "kernelspec": {
   "display_name": "Python 3",
   "language": "python",
   "name": "python3"
  },
  "language_info": {
   "codemirror_mode": {
    "name": "ipython",
    "version": 3
   },
   "file_extension": ".py",
   "mimetype": "text/x-python",
   "name": "python",
   "nbconvert_exporter": "python",
   "pygments_lexer": "ipython3",
   "version": "3.7.9"
  }
 },
 "nbformat": 4,
 "nbformat_minor": 5
}
